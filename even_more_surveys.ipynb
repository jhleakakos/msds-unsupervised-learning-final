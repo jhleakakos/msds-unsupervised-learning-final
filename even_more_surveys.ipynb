{
 "cells": [
  {
   "cell_type": "code",
   "id": "initial_id",
   "metadata": {
    "collapsed": true,
    "ExecuteTime": {
     "end_time": "2024-07-14T05:13:36.731002Z",
     "start_time": "2024-07-14T05:13:36.725675Z"
    }
   },
   "source": [
    "import numpy as np\n",
    "import pandas as pd\n",
    "import matplotlib.pyplot as plt\n",
    "import seaborn as sns"
   ],
   "outputs": [],
   "execution_count": 1
  },
  {
   "metadata": {},
   "cell_type": "markdown",
   "source": [
    "## Source\n",
    "\n",
    "United States Census Bureau. *Household Pulse Survey: Measuring Emergent Social and Economic Matters Facing U.S. Households*. https://www.census.gov/programs-surveys/household-pulse-survey.html\n",
    "\n",
    "Fields JF, Hunter-Childs J, Tersine A, Sisson J, Parker E, Velkoff V, Logan C, and Shin H (2020). *Design and Operation of the 2020 Household Pulse Survey*. [https://www2.census.gov/programs-surveys/demo/technical-documentation/hhp/2020_HPS_Background.pdf]. U.S. Census Bureau.\n",
    "\n",
    "The first citation is for the main Household Pulse Survey website. We are working with public use files at https://www.census.gov/programs-surveys/household-pulse-survey/data/datasets.html. The second citation is for a reference paper for understanding the larger context around the data we are working with.\n",
    "\n",
    "I originally found an interesting COVID-19-related mental health dataset at https://catalog.data.gov/dataset/mental-health-care-in-the-last-4-weeks. That page points to a related Centers for Disease Control and Prevention (CDC) page at https://www.cdc.gov/nchs/covid19/pulse/mental-health-care.htm. Both of these are aggregated, but we will want disaggregated data for unsupervised learning. A link at the bottom of the CDC pages gets us back to the Census page and the original source(s), including disaggregated data."
   ],
   "id": "9a13a445fe11b5"
  },
  {
   "metadata": {},
   "cell_type": "markdown",
   "source": [
    "## Survey and Survey Data Summary\n",
    "\n",
    "I started this project by looking at candidate datasets. I came across the mental health dataset at https://data.gov, I figured that data would be relatively straightforward to work with. Little did I know how just much complexity goes into surveys, survey data, and Census data. I will summarize what I learned about how the specific survey we look at in this project as well as how surveys similar to the one in this project work.\n",
    "\n",
    "Note: much of my summary in this section comes from the main Household Pulse Survey link cited above as well as this sub-page: https://www.census.gov/data/experimental-data-products/household-pulse-survey.html\n",
    "\n",
    "The United Stated Census Bureau is a primary hub for data about the American citizenry and economy. Before digging into this project, I was aware of the United States Census that happens every ten years. Beyond the official United States Census, I actually did not know what else the Census Bureau gathered, though I was aware that it was involved in other data work.\n",
    "\n",
    "The Census Bureau started the Household Pulse Survey (HPS) in 2020 in partnership with other federal agencies and to measure the impact of the COVID-19 pandemic. The HPS gathers data about American households in a much faster timeframe than other surveys available at the time. The HPS originally surveyed respondents weekly. This then changed to bi-weekly and eventually monthly. The HPS gathers and releases data in phases that typically run for around nine weeks with multiple collections during phases. From my research, this is a very fast turnaround time for surveys and survey data. One result of that is that representation among survey respondents becomes more difficult. We will speak about that more in the weighting section below. But, in general, it looks like the HPS has a gathering and reporting cycle that is pretty fast compared to many other common surveys that I looked into.\n",
    "\n",
    "The HPS allows analysis at the national level, state level, and scoped to the 15 largest metropolitan statistical areas (MSA). You can find more information about MSAs at https://www.census.gov/programs-surveys/metro-micro.html, but my colloquial summary for them is areas of high population density and certain characteristics that make them population and economic hubs in their respective regions.\n",
    "\n",
    "The HPS is a 20-minute survey that asks about demographic characteristics as well as a number of relevant topics such as:\n",
    "- Childcare arrangements\n",
    "- Food sufficiency\n",
    "- Housing security\n",
    "- Household spending\n",
    "- Physical and mental health\n",
    "- Health insurance coverage\n",
    "- Social isolation\n",
    "- (You can see a more complete list of topics at https://www.census.gov/data/experimental-data-products/household-pulse-survey.html in the section titled **What information does the Household Pulse Survey collect?**\n",
    "\n",
    "The scope of what the HPS is looking to study is robust, and the topics are relevant to areas where people were struggling during the COVID-19 pandemic and are continuing to struggle now.\n",
    "\n",
    "This project will focus on earlier surveys when the HPS started in 2020. The HPS continues today and has expanded in scope over time.\n",
    "\n",
    "We will talk more about this below, but the general approach in this project will be to explore clustering, anomaly/outlier detection, and feature reduction. Each of these prefer or require disaggregated data. This means we will work with the HPS Public Use Files (PUF) instead of data tables. PUFs have respondent-level data. The Census Bureau provides data tables with re-weighting and aggregation already done so that researchers can focus on trends and findings instead of working on the disaggregated data, so those are available if of interest.\n",
    "\n",
    "This is a quick summary of my current understanding of surveys, Census Bureau data, and the HPS. It took a lot of research to get to this level of understanding. I call this out because there is one more aspect of the HPS data that has been even more difficult to make sense of and to determine how to incorporate into this project: weighting."
   ],
   "id": "109e28c22dca8360"
  },
  {
   "metadata": {},
   "cell_type": "markdown",
   "source": [
    "## Survey Weights\n",
    "\n",
    "- Lots of work needed to understand specific weightings\n",
    "- Person vs household vs replicate weights\n",
    "- Examples of when to use weights vs when to not\n",
    "- Talk about how adjusting with weights might actually reduce performance for this project\n",
    "- This is one of the main areas to work on further or get help from domain experts for future iterations\n",
    "- While unsure here, we can still move forward in a way that defaults to leaving things as they are (unweighted) until sure that you need to adjust based on weights\n",
    "- Because of this complexity, we will want to avoid central tendency imputation or other imputation methods since we do not know if it is accurate to use those across the dataset as a whole, and we are not sure how to subset yet because that is part of what we are determining with this project"
   ],
   "id": "19a4f9e9fa0b7c2c"
  },
  {
   "metadata": {},
   "cell_type": "markdown",
   "source": [
    "## Data Summary\n",
    "\n",
    "- Which phase(s) are we using and why?\n",
    "- Are we looking to limit the feature space?\n",
    "- What type of preprocessing do we expect to do\n",
    "- Talk about what data comes with the PUFs\n",
    "- PUFs vs data tables"
   ],
   "id": "66f549d88a93a477"
  },
  {
   "metadata": {},
   "cell_type": "markdown",
   "source": [
    "## Project\n",
    "\n",
    "- Why unsupervised is useful here\n",
    "- What unsupervised allows us to do that supervised does not\n",
    "- Emphasize the speed and messiness of this data coming in compared to other surveys\n",
    "- Talk about how we will account for representation issues through possibly anomaly detection or another technical approach\n",
    "- Can use unsupervised output to then return to demographic data to try and provide more useful info\n",
    "- DBSCAN or other density-based clustering comes to mind as particularly useful because it may be able to set aside some version of outlier collections as clusters that are underrepresented in the data (hypothesis to test)\n",
    "- Similar for hierarchical clustering with intelligent cutoffs\n",
    "- Is there a use case for matrix factorization\n",
    "- How much are we relatively worried about outliers vs missing values etc\n",
    "- Is there a use case for winsorizing\n",
    "- Approach EDA as hypothesis exploratio as part of it, not just poking around with common steps\n",
    "- Maybe try isolation forests as a new algorithm from outside of class"
   ],
   "id": "4bdc720d18aa738b"
  },
  {
   "metadata": {},
   "cell_type": "markdown",
   "source": [
    "## References\n",
    "\n",
    "Household Pulse Survey technical documentation: \n",
    "- https://www.census.gov/programs-surveys/household-pulse-survey/technical-documentation.html\n",
    "\n",
    "Household Pulse Survey page with example usages:\n",
    "https://www.census.gov/programs-surveys/household-pulse-survey/library/working-papers.html\n",
    "\n",
    "Info about survey weights:\n",
    "- https://www.pewresearch.org/methods/2018/01/26/how-different-weighting-methods-work/\n",
    "- https://pages.nyu.edu/jackson/design.of.social.research/Readings/Johnson%20-%20Introduction%20to%20survey%20weights%20%28PRI%20version%29.pdf\n",
    "- https://analythical.com/blog/weighting-data-explained\n",
    "\n",
    "Replicate weights for the Census Current Population Survey (CPS):\n",
    "- https://cps.ipums.org/cps/repwt.shtml\n",
    "- \n",
    "R example of working with CPS data and replicate weights:\n",
    "- https://www.adambibler.com/post/exploring-census-household-pulse-survey-part-1/\n",
    "\n",
    "Articles about using CPS data and weights:\n",
    "- https://www.jchs.harvard.edu/blog/using-the-census-bureaus-household-pulse-survey-to-assess-the-economic-impacts-of-covid-19-on-americas-households\n",
    "- https://www.bgsu.edu/content/dam/BGSU/college-of-arts-and-sciences/center-for-family-and-demographic-research/documents/Workshops/2020-Household-Pulse-Survey.pdf\n",
    "\n",
    "Put in links to where to find supplementary PDFs for HPS and Census data\n",
    "- https://www2.census.gov/programs-surveys/demo/technical-documentation/hhp/2020_HPS_Background.pdf\n",
    "- https://www2.census.gov/programs-surveys/demo/technical-documentation/hhp/2020_HPS_NR_Bias_Report-final.pdf\n",
    "- https://www.census.gov/content/dam/Census/library/publications/2010/acs/Chapter_11_RevisedDec2010.pdf\n",
    "- https://www.census.gov/content/dam/Census/programs-surveys/ahs/tech-documentation/2015/Quick_Guide_to_Estimating_Variance_Using_Replicate_Weights_2009_to_Current.pdf\n",
    "- https://www2.census.gov/programs-surveys/cps/datasets/2018/supp/PERSON-level_Use_of_the_Public_Use_Replicate_Weight_File.doc\n",
    "- https://www2.census.gov/programs-surveys/cps/datasets/2021/march/Guidance_on_Using_Replicate_Weights_2020-2021.pdf\n",
    "\n",
    "Video presentations that include chunks about the HPS or other Census data: \n",
    "- https://www.youtube.com/watch?v=ltyT34S3C90\n",
    "- https://www.youtube.com/watch?v=lLk6esuBI6M\n",
    "- https://www.youtube.com/watch?v=aJDQmsmCv7A\n",
    "- https://www.youtube.com/watch?v=zfXohiWjzzY\n",
    "- https://www.youtube.com/watch?v=5Re4D1Ht74k"
   ],
   "id": "9b1497720b31dbce"
  }
 ],
 "metadata": {
  "kernelspec": {
   "display_name": "Python 3",
   "language": "python",
   "name": "python3"
  },
  "language_info": {
   "codemirror_mode": {
    "name": "ipython",
    "version": 2
   },
   "file_extension": ".py",
   "mimetype": "text/x-python",
   "name": "python",
   "nbconvert_exporter": "python",
   "pygments_lexer": "ipython2",
   "version": "2.7.6"
  }
 },
 "nbformat": 4,
 "nbformat_minor": 5
}
