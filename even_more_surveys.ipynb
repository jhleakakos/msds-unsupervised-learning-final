{
 "cells": [
  {
   "cell_type": "code",
   "id": "initial_id",
   "metadata": {
    "collapsed": true,
    "ExecuteTime": {
     "end_time": "2024-07-14T05:13:36.731002Z",
     "start_time": "2024-07-14T05:13:36.725675Z"
    }
   },
   "source": [
    "import numpy as np\n",
    "import pandas as pd\n",
    "import matplotlib.pyplot as plt\n",
    "import seaborn as sns"
   ],
   "outputs": [],
   "execution_count": 1
  },
  {
   "metadata": {},
   "cell_type": "markdown",
   "source": [
    "## Source\n",
    "\n",
    "Census Household Pulse Survey (HPS): https://www.census.gov/data/experimental-data-products/household-pulse-survey.html\n",
    "\n",
    "Original data.gov source\n",
    "https://catalog.data.gov/dataset/mental-health-care-in-the-last-4-weeks\n",
    "Contains summary data, not disaggregated data. But hints at interesting data and questions in that data\n",
    "\n",
    "data.gov points to this source\n",
    "https://www.cdc.gov/nchs/covid19/pulse/mental-health-care.htm\n",
    "Interesting, but does not have the actual data. Does have a summary report\n",
    "\n",
    "Searching gets you back to the Census and the detailed data for the Household Pulse Survey\n",
    "https://www.census.gov/data/experimental-data-products/household-pulse-survey.html\n"
   ],
   "id": "9a13a445fe11b5"
  },
  {
   "metadata": {},
   "cell_type": "markdown",
   "source": [
    "## Survey and Survey Data Summary\n",
    "\n",
    "- Public use files (PUFs) vs data tables\n",
    "- Lots of work needed to understand the files and the weights\n",
    "- Census data is much more complicated than I realized\n",
    "- Timeframe of CPS vs other surveys\n",
    " "
   ],
   "id": "109e28c22dca8360"
  },
  {
   "metadata": {},
   "cell_type": "markdown",
   "source": [
    "## Survey Weights\n",
    "\n",
    "- Lots of work needed to understand specific weightings\n",
    "- Person vs household vs replicate weights\n",
    "- Examples of when to use weights vs when to not\n",
    "- Talk about how adjusting with weights might actually reduce performance for this project\n",
    "- This is one of the main areas to work on further or get help from domain experts for future iterations\n",
    "- While unsure here, we can still move forward in a way that defaults to leaving things as they are (unweighted) until sure that you need to adjust based on weights"
   ],
   "id": "19a4f9e9fa0b7c2c"
  },
  {
   "metadata": {},
   "cell_type": "markdown",
   "source": [
    "## Data Summary\n",
    "\n",
    "- Which phase(s) are we using and why?\n",
    "- Are we looking to limit the feature space?\n",
    "- What type of preprocessing do we expect to do\n",
    "- Talk about what data comes with the PUFs\n",
    "- PUFs vs data tables"
   ],
   "id": "66f549d88a93a477"
  },
  {
   "metadata": {},
   "cell_type": "markdown",
   "source": [
    "## Project\n",
    "\n",
    "- Why unsupervised is useful here\n",
    "- What unsupervised allows us to do that supervised does not\n",
    "- Emphasize the speed and messiness of this data coming in compared to other surveys\n",
    "- Talk about how we will account for representation issues through possibly anomaly detection or another technical approach\n",
    "- Can use unsupervised output to then return to demographic data to try and provide more useful info"
   ],
   "id": "4bdc720d18aa738b"
  },
  {
   "metadata": {},
   "cell_type": "markdown",
   "source": [
    "## References\n",
    "\n",
    "Household Pulse Survey technical documentation: \n",
    "- https://www.census.gov/programs-surveys/household-pulse-survey/technical-documentation.html\n",
    "\n",
    "Info about survey weights:\n",
    "- https://www.pewresearch.org/methods/2018/01/26/how-different-weighting-methods-work/\n",
    "- https://pages.nyu.edu/jackson/design.of.social.research/Readings/Johnson%20-%20Introduction%20to%20survey%20weights%20%28PRI%20version%29.pdf\n",
    "- https://analythical.com/blog/weighting-data-explained\n",
    "\n",
    "Replicate weights for the Census Current Population Survey (CPS):\n",
    "- https://cps.ipums.org/cps/repwt.shtml\n",
    "- \n",
    "R example of working with CPS data and replicate weights:\n",
    "- https://www.adambibler.com/post/exploring-census-household-pulse-survey-part-1/\n",
    "\n",
    "Articles about using CPS data and weights:\n",
    "- https://www.jchs.harvard.edu/blog/using-the-census-bureaus-household-pulse-survey-to-assess-the-economic-impacts-of-covid-19-on-americas-households\n",
    "- https://www.bgsu.edu/content/dam/BGSU/college-of-arts-and-sciences/center-for-family-and-demographic-research/documents/Workshops/2020-Household-Pulse-Survey.pdf\n",
    "\n",
    "Put in links to where to find supplementary PDFs for HPS and Census data\n",
    "- https://www2.census.gov/programs-surveys/demo/technical-documentation/hhp/2020_HPS_Background.pd-f\n",
    "- https://www2.census.gov/programs-surveys/demo/technical-documentation/hhp/2020_HPS_NR_Bias_Report-final.pdf\n",
    "- https://www.census.gov/content/dam/Census/library/publications/2010/acs/Chapter_11_RevisedDec2010.pdf\n",
    "- https://www.census.gov/content/dam/Census/programs-surveys/ahs/tech-documentation/2015/Quick_Guide_to_Estimating_Variance_Using_Replicate_Weights_2009_to_Current.pdf\n",
    "- https://www2.census.gov/programs-surveys/cps/datasets/2018/supp/PERSON-level_Use_of_the_Public_Use_Replicate_Weight_File.doc\n",
    "- https://www2.census.gov/programs-surveys/cps/datasets/2021/march/Guidance_on_Using_Replicate_Weights_2020-2021.pdf\n",
    "\n",
    "Video presentations that include chunks about the HPS or other Census data: \n",
    "- https://www.youtube.com/watch?v=ltyT34S3C90\n",
    "- https://www.youtube.com/watch?v=lLk6esuBI6M\n",
    "- https://www.youtube.com/watch?v=aJDQmsmCv7A\n",
    "- https://www.youtube.com/watch?v=zfXohiWjzzY\n",
    "- https://www.youtube.com/watch?v=5Re4D1Ht74k"
   ],
   "id": "9b1497720b31dbce"
  }
 ],
 "metadata": {
  "kernelspec": {
   "display_name": "Python 3",
   "language": "python",
   "name": "python3"
  },
  "language_info": {
   "codemirror_mode": {
    "name": "ipython",
    "version": 2
   },
   "file_extension": ".py",
   "mimetype": "text/x-python",
   "name": "python",
   "nbconvert_exporter": "python",
   "pygments_lexer": "ipython2",
   "version": "2.7.6"
  }
 },
 "nbformat": 4,
 "nbformat_minor": 5
}
